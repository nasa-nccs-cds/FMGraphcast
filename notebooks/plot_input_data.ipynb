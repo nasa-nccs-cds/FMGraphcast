{
 "cells": [
  {
   "cell_type": "code",
   "execution_count": null,
   "id": "e9c23ccfaa927d47",
   "metadata": {
    "collapsed": true
   },
   "outputs": [],
   "source": [
    "from typing import Optional, Dict\n",
    "from fmbase.source.merra2.model import YearMonth, load_batch\n",
    "from fmgraphcast.config import config_files\n",
    "import hydra\n",
    "import xarray as xa\n",
    "import  time\n",
    "from fmbase.util.config import configure, cfg\n",
    "from fmbase.plot.image import plot"
   ]
  },
  {
   "cell_type": "code",
   "execution_count": null,
   "outputs": [],
   "source": [
    "hydra.initialize( version_base=None, config_path=\"../config\" )\n",
    "configure(  'explore-era5' )\n",
    "t0 = time.time()\n",
    "\n",
    "plot_var = \"u_component_of_wind\"\n",
    "\n",
    "res,levels,steps = cfg().model.res,  cfg().model.levels,  cfg().model.steps\n",
    "year, month, day =  cfg().model.year,  cfg().model.month,  cfg().model.day\n",
    "train_steps, eval_steps = cfg().task.train_steps, cfg().task.eval_steps\n",
    "(model_config,task_config) = config_files()\n",
    "\n",
    "#~~~~~~~~~~~~~~~~~~~~~~~~~~~~~~~~~~~~~~~~~~~~~~~~~~~~~~~~~~~~~~~~~~~~~~~~~~~~~~~~~~~~~~~~~~~~~~~~~~~~~~~~~~~~~~~~~~~~~~~\n",
    "# Load MERRA2 Data\n",
    "#-----------------\n",
    "\n",
    "params: Dict[str,Dict] = None\n",
    "state = {}\n",
    "dts         = cfg().task.data_timestep\n",
    "start = YearMonth(year,month)\n",
    "end = YearMonth(year,month+1)\n",
    "target_lead_times = [ f\"{iS*dts}h\" for iS in range(1,train_steps+1) ]\n",
    "eval_lead_times =   [ f\"{iS*dts}h\" for iS in range(1,eval_steps+1) ]"
   ],
   "metadata": {
    "collapsed": false
   },
   "id": "33e80f641a0bdb77"
  },
  {
   "cell_type": "code",
   "execution_count": null,
   "outputs": [],
   "source": [
    "print( \"  --------------------- MERRA2 ---------------------\")\n",
    "example_batch: xa.Dataset = load_batch( start, end, cfg().task )\n",
    "\n",
    "print(\"Loaded Batch:\")\n",
    "for vname, dvar in example_batch.data_vars.items():\n",
    "\tprint( f\" {vname}{list(dvar.dims)}: shape={dvar.shape}\")"
   ],
   "metadata": {
    "collapsed": false
   },
   "id": "fe630b02af45409e"
  },
  {
   "cell_type": "code",
   "execution_count": null,
   "outputs": [],
   "source": [
    "plot( example_batch, plot_var )"
   ],
   "metadata": {
    "collapsed": false
   },
   "id": "initial_id"
  }
 ],
 "metadata": {
  "kernelspec": {
   "display_name": "Python 3",
   "language": "python",
   "name": "python3"
  },
  "language_info": {
   "codemirror_mode": {
    "name": "ipython",
    "version": 2
   },
   "file_extension": ".py",
   "mimetype": "text/x-python",
   "name": "python",
   "nbconvert_exporter": "python",
   "pygments_lexer": "ipython2",
   "version": "2.7.6"
  }
 },
 "nbformat": 4,
 "nbformat_minor": 5
}
