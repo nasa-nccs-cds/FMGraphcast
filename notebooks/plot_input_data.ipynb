{
 "cells": [
  {
   "cell_type": "code",
   "execution_count": null,
   "id": "e9c23ccfaa927d47",
   "metadata": {
    "collapsed": true
   },
   "outputs": [],
   "source": [
    "import traceback\n",
    "from fmbase.source.merra2.model import FMBatch, BatchType\n",
    "import xarray as xa\n",
    "from fmbase.plot.image import plot\n",
    "import jax, time\n",
    "import numpy as np\n",
    "import random\n",
    "import hydra, dataclasses\n",
    "from datetime import date\n",
    "from fmbase.util.config import configure, cfg\n",
    "from typing import List, Union, Tuple, Optional, Dict, Type"
   ]
  },
  {
   "cell_type": "code",
   "execution_count": null,
   "outputs": [],
   "source": [
    "hydra.initialize(version_base=None, config_path=\"../config\")\n",
    "configure('merra2-finetuning')\n",
    "t0 = time.time()\n",
    "\n",
    "year, month, day = cfg().task.year, cfg().task.month, cfg().task.day\n",
    "reference_date = date(year, month, day)\n",
    "day_offset = 0"
   ],
   "metadata": {
    "collapsed": false
   },
   "id": "33e80f641a0bdb77"
  },
  {
   "cell_type": "code",
   "execution_count": null,
   "outputs": [],
   "source": [
    "#~~~~~~~~~~~~~~~~~~~~~~~~~~~~~~~~~~~~~~~~~~~~~~~~~~~~~~~~~~~~~~~~~~~~~~~~~~~~~~~~~~~~~~~~~~~~~~~~~~~~~~~~~~~~~~~~~~~~~~~\n",
    "# Load MERRA2 Data\n",
    "#-----------------\n",
    "\n",
    "fmbatch: FMBatch = FMBatch(cfg().task, BatchType.Forecast)\n",
    "norms: Dict[str, xa.Dataset] = fmbatch.norm_data\n",
    "fmbatch.load_batch(reference_date)\n",
    "target_vars = cfg().task.target_variables"
   ],
   "metadata": {
    "collapsed": false
   },
   "id": "fe630b02af45409e"
  },
  {
   "cell_type": "code",
   "execution_count": null,
   "outputs": [],
   "source": [
    "plot( fmbatch.current_batch, target_vars[0] )"
   ],
   "metadata": {
    "collapsed": false
   },
   "id": "9a55c4afcc098878"
  },
  {
   "cell_type": "code",
   "execution_count": null,
   "outputs": [],
   "source": [],
   "metadata": {
    "collapsed": false
   },
   "id": "de68f525a9262a30"
  },
  {
   "cell_type": "code",
   "execution_count": null,
   "outputs": [],
   "source": [],
   "metadata": {
    "collapsed": false
   },
   "id": "initial_id"
  }
 ],
 "metadata": {
  "kernelspec": {
   "display_name": "Python 3",
   "language": "python",
   "name": "python3"
  },
  "language_info": {
   "codemirror_mode": {
    "name": "ipython",
    "version": 2
   },
   "file_extension": ".py",
   "mimetype": "text/x-python",
   "name": "python",
   "nbconvert_exporter": "python",
   "pygments_lexer": "ipython2",
   "version": "2.7.6"
  }
 },
 "nbformat": 4,
 "nbformat_minor": 5
}
