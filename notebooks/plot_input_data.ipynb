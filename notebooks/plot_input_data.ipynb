{
 "cells": [
  {
   "cell_type": "code",
   "execution_count": null,
   "id": "e9c23ccfaa927d47",
   "metadata": {
    "collapsed": true
   },
   "outputs": [],
   "source": [
    "from typing import Optional, Dict\n",
    "from fmbase.source.merra2.model import YearMonth, load_batch\n",
    "from fmgraphcast.config import hydra_config_files\n",
    "import hydra\n",
    "import xarray as xa\n",
    "import  time\n",
    "from fmbase.util.config import configure, cfg\n",
    "from fmbase.plot.image import plot"
   ]
  },
  {
   "cell_type": "code",
   "execution_count": null,
   "outputs": [],
   "source": [
    "hydra.initialize( version_base=None, config_path=\"../config\" )\n",
    "configure(  'merra2-test' )\n",
    "t0 = time.time()\n",
    "\n",
    "pvar = \"temperature\"\n",
    "res,levels,steps = cfg().model.res,  cfg().task.levels,  cfg().model.steps\n",
    "year, month, day =  cfg().task.year,  cfg().task.month,  cfg().task.day\n",
    "train_steps, eval_steps = cfg().task.train_steps, cfg().task.eval_steps\n",
    "(model_config,task_config) = hydra_config_files()\n",
    "\n",
    "#~~~~~~~~~~~~~~~~~~~~~~~~~~~~~~~~~~~~~~~~~~~~~~~~~~~~~~~~~~~~~~~~~~~~~~~~~~~~~~~~~~~~~~~~~~~~~~~~~~~~~~~~~~~~~~~~~~~~~~~\n",
    "# Load MERRA2 Data\n",
    "#-----------------\n",
    "\n",
    "params: Dict[str,Dict] = None\n",
    "state = {}\n",
    "dts         = cfg().task.data_timestep\n",
    "start = YearMonth(year,month)\n",
    "end = YearMonth(year,month+1)\n",
    "target_lead_times = [ f\"{iS*dts}h\" for iS in range(1,train_steps+1) ]\n",
    "eval_lead_times =   [ f\"{iS*dts}h\" for iS in range(1,eval_steps+1) ]"
   ],
   "metadata": {
    "collapsed": false
   },
   "id": "33e80f641a0bdb77"
  },
  {
   "cell_type": "code",
   "execution_count": null,
   "outputs": [],
   "source": [
    "print( \"  --------------------- MERRA2 ---------------------\")\n",
    "example_batch: xa.Dataset = load_batch( year, month, day, ndays, cfg().task, vars=[pvar] )\n",
    "\n",
    "print(\"Loaded Batch:\")\n",
    "for vname, dvar in example_batch.data_vars.items():\n",
    "\tprint( f\" {vname}{list(dvar.dims)}: shape={dvar.shape}\")"
   ],
   "metadata": {
    "collapsed": false
   },
   "id": "fe630b02af45409e"
  },
  {
   "cell_type": "code",
   "execution_count": null,
   "outputs": [],
   "source": [
    "plot( example_batch, pvar )"
   ],
   "metadata": {
    "collapsed": false
   },
   "id": "9a55c4afcc098878"
  },
  {
   "cell_type": "code",
   "execution_count": null,
   "outputs": [],
   "source": [],
   "metadata": {
    "collapsed": false
   },
   "id": "de68f525a9262a30"
  },
  {
   "cell_type": "code",
   "execution_count": null,
   "outputs": [],
   "source": [],
   "metadata": {
    "collapsed": false
   },
   "id": "initial_id"
  }
 ],
 "metadata": {
  "kernelspec": {
   "display_name": "Python 3",
   "language": "python",
   "name": "python3"
  },
  "language_info": {
   "codemirror_mode": {
    "name": "ipython",
    "version": 2
   },
   "file_extension": ".py",
   "mimetype": "text/x-python",
   "name": "python",
   "nbconvert_exporter": "python",
   "pygments_lexer": "ipython2",
   "version": "2.7.6"
  }
 },
 "nbformat": 4,
 "nbformat_minor": 5
}
