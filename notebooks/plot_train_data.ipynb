{
 "cells": [
  {
   "cell_type": "code",
   "execution_count": null,
   "id": "e1d5d861450354ba",
   "metadata": {
    "collapsed": false
   },
   "outputs": [],
   "source": [
    "%matplotlib ipympl\n",
    "from fmbase.plot.image import mplplot\n",
    "from fmbase.source.merra2.model import FMBatch, BatchType\n",
    "from fmgraphcast.config import save_params, load_params\n",
    "from fmgraphcast.model import run_forward, loss_fn, grads_fn, drop_state\n",
    "import xarray as xa\n",
    "import functools\n",
    "from fmgraphcast import data_utils\n",
    "import jax, time\n",
    "import numpy as np\n",
    "import random\n",
    "import hydra, dataclasses\n",
    "from datetime import date\n",
    "from fmbase.util.dates import date_list, year_range\n",
    "from fmbase.util.config import configure, cfg\n",
    "from typing import List, Union, Tuple, Optional, Dict, Type\n",
    "\n",
    "hydra.initialize( version_base=None, config_path=\"../config\" )\n",
    "configure( 'merra2-finetuning' )\n",
    "t0 = time.time()\n",
    "\n",
    "def parse_file_parts(file_name):\n",
    "\treturn dict(part.split(\"-\", 1) for part in file_name.split(\"_\"))\n",
    "\n",
    "def dtypes( d: Dict ):\n",
    "\treturn { k: type(v) for k,v in d.items() }\n",
    "\n",
    "res,levels= cfg().model.res,  cfg().task.levels\n",
    "year, month, day =  cfg().task.year,  cfg().task.month,  cfg().task.day\n",
    "train_steps = cfg().task.train_steps\n",
    "runid = \"small\"\n",
    "(params, model_config, task_config) = load_params(\"merra2\", runid=runid, hydra_config=False )\n",
    "state = {}\n",
    "lr = cfg().task.lr\n",
    "output_period = 50\n",
    "day_offset = 0"
   ]
  },
  {
   "cell_type": "code",
   "execution_count": null,
   "outputs": [],
   "source": [
    "dts         = cfg().task.data_timestep\n",
    "target_lead_times = [ f\"{iS*dts}h\" for iS in range(1,train_steps+1) ]\n",
    "train_dates = year_range( *cfg().task.year_range, randomize=True )\n",
    "fmbatch: FMBatch = FMBatch( cfg().task, BatchType.Training )\n",
    "norms: Dict[str, xa.Dataset] = fmbatch.norm_data\n",
    "\n",
    "def with_configs(fn): return functools.partial( fn, model_config=model_config, task_config=task_config, norms=norms)\n",
    "def with_params(fn): return functools.partial(fn, params=params, state=state)\n",
    "init_jitted = jax.jit(with_configs(run_forward.init))\n",
    "grads_fn_jitted = jax.jit(with_configs(grads_fn))"
   ],
   "metadata": {
    "collapsed": false
   },
   "id": "43e73c641f8485ad"
  },
  {
   "cell_type": "code",
   "execution_count": null,
   "outputs": [],
   "source": [
    "fmbatch.load_batch( train_dates[0] )\n",
    "train_data: xa.Dataset = fmbatch.get_train_data( day_offset )\n",
    "itf = data_utils.extract_inputs_targets_forcings( train_data, target_lead_times=target_lead_times, **dataclasses.asdict(task_config) )\n",
    "train_inputs, train_targets, train_forcings = itf"
   ],
   "metadata": {
    "collapsed": false
   },
   "id": "9be30451ce4cb953"
  },
  {
   "cell_type": "code",
   "execution_count": null,
   "outputs": [],
   "source": [
    "pvars: List[str] = list(train_data.data_vars.keys())\n",
    "mplplot( train_inputs, pvars[:5], norms=norms )"
   ],
   "metadata": {
    "collapsed": true
   },
   "id": "initial_id"
  }
 ],
 "metadata": {
  "kernelspec": {
   "display_name": "Python 3",
   "language": "python",
   "name": "python3"
  },
  "language_info": {
   "codemirror_mode": {
    "name": "ipython",
    "version": 2
   },
   "file_extension": ".py",
   "mimetype": "text/x-python",
   "name": "python",
   "nbconvert_exporter": "python",
   "pygments_lexer": "ipython2",
   "version": "2.7.6"
  }
 },
 "nbformat": 4,
 "nbformat_minor": 5
}
