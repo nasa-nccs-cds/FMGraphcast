{
 "cells": [
  {
   "cell_type": "code",
   "execution_count": null,
   "id": "87d07e52e12b6f05",
   "metadata": {
    "collapsed": false
   },
   "outputs": [],
   "source": [
    "%matplotlib ipympl\n",
    "import matplotlib.pyplot as plt\n",
    "from fmbase.source.merra2.model import FMBatch, BatchType\n",
    "from fmgraphcast.config import save_params, load_params\n",
    "from fmgraphcast.model import run_forward, loss_fn, grads_fn, drop_state\n",
    "import xarray as xa\n",
    "import functools\n",
    "from fmgraphcast import data_utils\n",
    "from fmbase.util.ops import format_timedeltas\n",
    "from graphcast import rollout\n",
    "import jax, time\n",
    "import numpy as np\n",
    "from fmbase.plot.image import mplplot\n",
    "import hydra, dataclasses\n",
    "from datetime import date\n",
    "from fmbase.util.config import configure, cfg\n",
    "from typing import List, Union, Tuple, Optional, Dict, Type\n",
    "\n",
    "hydra.initialize( version_base=None, config_path=\"../config\" )\n",
    "configure( 'merra2-finetuning' )\n",
    "t0 = time.time()\n",
    "\n",
    "def parse_file_parts(file_name):\n",
    "\treturn dict(part.split(\"-\", 1) for part in file_name.split(\"_\"))\n",
    "\n",
    "def dtypes( d: Dict ):\n",
    "\treturn { k: type(v) for k,v in d.items() }\n",
    "\n",
    "res,levels= cfg().model.res,  cfg().task.levels\n",
    "year, month, day =  cfg().task.year,  cfg().task.month,  cfg().task.day\n",
    "train_steps, eval_steps = cfg().task.train_steps, cfg().task.eval_steps\n",
    "runid = \"small\"\n",
    "(params, model_config, task_config) = load_params(\"merra2\", runid=runid, hydra_config=False )\n",
    "state = {}\n",
    "lr = cfg().task.lr\n",
    "reference_date = date( year, month, day )\n",
    "day_offset = 0"
   ]
  },
  {
   "cell_type": "code",
   "execution_count": null,
   "outputs": [],
   "source": [
    "#~~~~~~~~~~~~~~~~~~~~~~~~~~~~~~~~~~~~~~~~~~~~~~~~~~~~~~~~~~~~~~~~~~~~~~~~~~~~~~~~~~~~~~~~~~~~~~~~~~~~~~~~~~~~~~~~~~~~~~~\n",
    "# Load MERRA2 Data\n",
    "#-----------------\n",
    "\n",
    "dts         = cfg().task.data_timestep\n",
    "target_leadtimes = [ f\"{iS*dts}h\" for iS in range(1,train_steps+1) ]\n",
    "eval_leadtimes =   [ f\"{iS*dts}h\" for iS in range(1,eval_steps+1) ]\n",
    "\n",
    "fmbatch: FMBatch = FMBatch( cfg().task, BatchType.Forecast )\n",
    "norms: Dict[str, xa.Dataset] = fmbatch.norm_data\n",
    "error_threshold = cfg().task.error_threshold\n",
    "fmbatch.load_batch( reference_date )\n",
    "\n",
    "def with_configs(fn): return functools.partial( fn, model_config=model_config, task_config=task_config, norms=norms)\n",
    "def with_params(fn): return functools.partial(fn, params=params, state=state)\n",
    "\n",
    "init_jitted = jax.jit(with_configs(run_forward.init))\n",
    "grads_fn_jitted = jax.jit(with_configs(grads_fn))\n",
    "run_forward_jitted = drop_state(with_params(jax.jit(with_configs(run_forward.apply))))\n",
    "\n",
    "train_data: xa.Dataset = fmbatch.get_train_data( day_offset )\n",
    "itf = data_utils.extract_inputs_targets_forcings( train_data, target_lead_times=eval_leadtimes, **dataclasses.asdict(task_config) )\n",
    "eval_inputs, eval_targets, eval_forcings = itf\n",
    "\n",
    "print( f\"\\nForecast Targets, target leadtimes={eval_leadtimes}, Variables:\")\n",
    "for vname, dvar in eval_targets.data_vars.items():\n",
    "\tndvar: np.ndarray = dvar.values\n",
    "\tprint( f\" > {vname}{dvar.dims}: {dvar.shape}\")\n",
    "\tprint(f\"   --> dtype: {dvar.dtype}, range: ({ndvar.min():.3f},{ndvar.max():.3f}), mean,std: ({ndvar.mean():.3f},{ndvar.std():.3f})\")\n",
    "\n",
    "if params is None:\n",
    "\titf = data_utils.extract_inputs_targets_forcings(train_data, target_lead_times=target_leadtimes, **dataclasses.asdict(task_config))\n",
    "\ttrain_inputs, train_targets, train_forcings = itf\n",
    "\tparams, state = init_jitted( rng=jax.random.PRNGKey(0), inputs=train_inputs, targets_template=train_targets, forcings=train_forcings )"
   ],
   "metadata": {
    "collapsed": false
   },
   "id": "63bbf09c189e0486"
  },
  {
   "cell_type": "code",
   "execution_count": null,
   "outputs": [],
   "source": [
    "ts, rng = time.time(), jax.random.PRNGKey(0)\n",
    "predictions: xa.Dataset = rollout.chunked_prediction(run_forward_jitted, rng=rng, inputs=eval_inputs, targets_template=eval_targets*np.nan, forcings=eval_forcings)\n",
    "\n",
    "print( f\"\\n ***** Completed forecast in {time.time()-ts:.3f} sec, result variables:  \")\n",
    "for vname, dvar in predictions.data_vars.items():\n",
    "\tprint( f\" > {vname}{dvar.dims}: {dvar.shape}\")\n",
    "\tndvar: np.ndarray = dvar.values\n",
    "\ttvar: Optional[xa.DataArray] = dvar.coords.get('time')\n",
    "\tprint(f\"   --> dtype: {dvar.dtype}, range: ({ndvar.min():.3f},{ndvar.max():.3f}), mean,std: ({ndvar.mean():.3f},{ndvar.std():.3f}), time: {format_timedeltas(tvar)}\")"
   ],
   "metadata": {
    "collapsed": true
   },
   "id": "initial_id"
  },
  {
   "cell_type": "code",
   "execution_count": null,
   "outputs": [],
   "source": [
    "target_vars = cfg().task.target_variables\n",
    "mplplot( eval_targets, predictions, target_vars[:2] )\n"
   ],
   "metadata": {
    "collapsed": false
   },
   "id": "9026335905c1ddc2"
  }
 ],
 "metadata": {
  "kernelspec": {
   "display_name": "Python 3",
   "language": "python",
   "name": "python3"
  },
  "language_info": {
   "codemirror_mode": {
    "name": "ipython",
    "version": 2
   },
   "file_extension": ".py",
   "mimetype": "text/x-python",
   "name": "python",
   "nbconvert_exporter": "python",
   "pygments_lexer": "ipython2",
   "version": "2.7.6"
  }
 },
 "nbformat": 4,
 "nbformat_minor": 5
}
